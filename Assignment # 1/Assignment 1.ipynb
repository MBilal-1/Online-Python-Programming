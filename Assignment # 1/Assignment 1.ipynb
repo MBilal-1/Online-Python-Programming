{
 "cells": [
  {
   "cell_type": "code",
   "execution_count": 4,
   "id": "8863dd0d",
   "metadata": {},
   "outputs": [
    {
     "name": "stdout",
     "output_type": "stream",
     "text": [
      "Twinkle Twinkle Little star, \n",
      "       How I wonder what you are, \n",
      "              Up Above the world so high! \n",
      "                     Like a diamond in the Sky, \n",
      " Twinkle Twinkle Little Star, \n",
      " How I wonder what you are.\n"
     ]
    }
   ],
   "source": [
    "print (\"Twinkle Twinkle Little star, \\n       How I wonder what you are, \\n              Up Above the world so high! \\n                     Like a diamond in the Sky, \\n Twinkle Twinkle Little Star, \\n How I wonder what you are.\")"
   ]
  },
  {
   "cell_type": "code",
   "execution_count": 5,
   "id": "a0c85e54",
   "metadata": {},
   "outputs": [
    {
     "name": "stdout",
     "output_type": "stream",
     "text": [
      "Python Version\n",
      "3.9.7 (default, Sep 16 2021, 16:59:28) [MSC v.1916 64 bit (AMD64)]\n",
      "Python Info\n",
      "sys.version_info(major=3, minor=9, micro=7, releaselevel='final', serial=0)\n"
     ]
    }
   ],
   "source": [
    "import sys\n",
    "print (\"Python Version\")\n",
    "print (sys.version)\n",
    "print (\"Python Info\")\n",
    "print (sys.version_info)"
   ]
  },
  {
   "cell_type": "code",
   "execution_count": 9,
   "id": "825abbbb",
   "metadata": {},
   "outputs": [
    {
     "name": "stdout",
     "output_type": "stream",
     "text": [
      "Current Date & Time is:\n",
      "2022-11-01/01/22 22:11:21\n"
     ]
    }
   ],
   "source": [
    "import datetime\n",
    "now = datetime.datetime.now()\n",
    "print (\"Current Date & Time is:\")\n",
    "print(now.strftime(\"%Y-%M-%D %H:%M:%S\"))"
   ]
  },
  {
   "cell_type": "code",
   "execution_count": 16,
   "id": "1c2d5ec0",
   "metadata": {},
   "outputs": [
    {
     "name": "stdout",
     "output_type": "stream",
     "text": [
      "Enter the Radius of the Circle: 20\n",
      "Area of the Circle is: 1256.6370614359173\n"
     ]
    }
   ],
   "source": [
    "import math\n",
    "Radius= float(input(\"Enter the Radius of the Circle: \"))\n",
    "Area= math.pi * Radius * Radius\n",
    "print (\"Area of the Circle is: {0}\".format(Area))"
   ]
  },
  {
   "cell_type": "code",
   "execution_count": 17,
   "id": "5ec46321",
   "metadata": {},
   "outputs": [
    {
     "name": "stdout",
     "output_type": "stream",
     "text": [
      "Enter Your First Name: Muhammad\n",
      "Enter Your Last NameBilal\n",
      "Bilal Muhammad\n"
     ]
    }
   ],
   "source": [
    "FName=input(\"Enter Your First Name: \")\n",
    "LName=input(\"Enter Your Last Name\")\n",
    "print(LName + \" \"+FName)"
   ]
  },
  {
   "cell_type": "code",
   "execution_count": 21,
   "id": "9250194e",
   "metadata": {},
   "outputs": [
    {
     "name": "stdout",
     "output_type": "stream",
     "text": [
      "Enter 1stt No: 14\n",
      "Enter 2nd No: 17\n",
      "The addition for two entered No is:  31\n"
     ]
    }
   ],
   "source": [
    "FirstNo = int(input(\"Enter 1stt No: \"))\n",
    "SecNo = int(input(\"Enter 2nd No: \"))\n",
    "addition = FirstNo + SecNo\n",
    "print(\"The addition for two entered No is: \",addition)"
   ]
  },
  {
   "cell_type": "code",
   "execution_count": null,
   "id": "6951fbde",
   "metadata": {},
   "outputs": [],
   "source": []
  }
 ],
 "metadata": {
  "kernelspec": {
   "display_name": "Python 3 (ipykernel)",
   "language": "python",
   "name": "python3"
  },
  "language_info": {
   "codemirror_mode": {
    "name": "ipython",
    "version": 3
   },
   "file_extension": ".py",
   "mimetype": "text/x-python",
   "name": "python",
   "nbconvert_exporter": "python",
   "pygments_lexer": "ipython3",
   "version": "3.9.7"
  }
 },
 "nbformat": 4,
 "nbformat_minor": 5
}
